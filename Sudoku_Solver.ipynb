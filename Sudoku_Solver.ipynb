{
 "cells": [
  {
   "cell_type": "markdown",
   "metadata": {},
   "source": [
    "## Python Sudoku Solver\n",
    "### currently this code solves by brute-force\n",
    "### good for easy and medium puzzles. hard puzzles takes a long time to converge.\n",
    "### to add additional check steps prior to brute-force"
   ]
  },
  {
   "cell_type": "code",
   "execution_count": 16,
   "metadata": {},
   "outputs": [],
   "source": [
    "\n",
    "import numpy as np"
   ]
  },
  {
   "cell_type": "code",
   "execution_count": 17,
   "metadata": {},
   "outputs": [],
   "source": [
    "grid = [[0,0,0,0,0,0,0,0,0],\n",
    "        [0,0,0,0,0,0,0,0,0],\n",
    "        [0,0,0,0,0,0,0,0,0],\n",
    "        [0,0,0,0,0,0,0,0,0],\n",
    "        [0,0,0,0,0,0,0,0,0],\n",
    "        [0,0,0,0,0,0,0,0,0],\n",
    "        [0,0,0,0,0,0,0,0,0],\n",
    "        [0,0,0,0,0,0,0,0,0],\n",
    "        [0,0,0,0,0,0,0,0,0]]"
   ]
  },
  {
   "cell_type": "code",
   "execution_count": 18,
   "metadata": {},
   "outputs": [],
   "source": [
    "grid = [[0,5,0,0,1,0,0,0,0],\n",
    "        [3,4,0,5,2,0,0,0,7],\n",
    "        [7,1,0,0,8,0,6,0,0],\n",
    "        [1,0,0,2,6,0,4,0,0],\n",
    "        [4,6,7,0,0,0,2,1,8],\n",
    "        [0,0,5,0,4,7,0,0,9],\n",
    "        [0,0,6,0,9,0,0,8,2],\n",
    "        [2,0,0,0,5,3,0,4,6],\n",
    "        [0,0,0,0,7,0,0,3,0]]"
   ]
  },
  {
   "cell_type": "code",
   "execution_count": 19,
   "metadata": {},
   "outputs": [
    {
     "name": "stdout",
     "output_type": "stream",
     "text": [
      "[[0 5 0 0 1 0 0 0 0]\n",
      " [3 4 0 5 2 0 0 0 7]\n",
      " [7 1 0 0 8 0 6 0 0]\n",
      " [1 0 0 2 6 0 4 0 0]\n",
      " [4 6 7 0 0 0 2 1 8]\n",
      " [0 0 5 0 4 7 0 0 9]\n",
      " [0 0 6 0 9 0 0 8 2]\n",
      " [2 0 0 0 5 3 0 4 6]\n",
      " [0 0 0 0 7 0 0 3 0]]\n"
     ]
    }
   ],
   "source": [
    "print(np.matrix(grid))"
   ]
  },
  {
   "cell_type": "code",
   "execution_count": 23,
   "metadata": {},
   "outputs": [],
   "source": [
    "def check(y, x, n):\n",
    "    '''\n",
    "    This function checks for 3 primary conditions\n",
    "    '''\n",
    "    global grid\n",
    "    for i in range (0,9):\n",
    "        if grid[y][i]==n:\n",
    "            return False\n",
    "    for i in range (0, 9):\n",
    "        if grid[i][x]==n:\n",
    "            return False\n",
    "    x1 = (x//3)*3\n",
    "    y1 = (y//3)*3\n",
    "    for i in range(0,3):\n",
    "        for j in range(0,3):\n",
    "            if grid[y1+i][x1+i] == n:\n",
    "                return False\n",
    "    return True"
   ]
  },
  {
   "cell_type": "code",
   "execution_count": 38,
   "metadata": {},
   "outputs": [],
   "source": [
    "def solve():\n",
    "    global grid\n",
    "    '''\n",
    "    This is a recursive function, that enters a candidate in vacant position\n",
    "    if conditions is 'check function' is satisfied\n",
    "    '''\n",
    "    i=0\n",
    "    for y in range(9):\n",
    "        for x in range(9):\n",
    "            if grid[y][x] == 0:\n",
    "                for n in range(1,10):\n",
    "                    if check(y, x, n):\n",
    "                        grid[y][x] = n\n",
    "                        solve()\n",
    "                        grid[y][x] = 0\n",
    "                return\n",
    "    i+=1\n",
    "    print(f\"trial {i}\")\n",
    "    print(np.matrix(grid))\n",
    "    return grid"
   ]
  },
  {
   "cell_type": "code",
   "execution_count": 39,
   "metadata": {},
   "outputs": [
    {
     "name": "stdout",
     "output_type": "stream",
     "text": [
      "trial 1\n",
      "[[6 5 9 7 1 4 8 2 3]\n",
      " [3 4 8 5 2 6 1 9 7]\n",
      " [7 1 2 3 8 9 6 5 4]\n",
      " [1 9 3 2 6 8 4 7 5]\n",
      " [4 6 7 9 3 5 2 1 8]\n",
      " [8 2 5 1 4 7 3 6 9]\n",
      " [5 3 6 4 9 1 7 8 2]\n",
      " [2 7 1 8 5 3 9 4 6]\n",
      " [9 8 4 6 7 2 5 3 1]]\n"
     ]
    }
   ],
   "source": [
    "solve()"
   ]
  },
  {
   "cell_type": "code",
   "execution_count": null,
   "metadata": {},
   "outputs": [],
   "source": []
  }
 ],
 "metadata": {
  "kernelspec": {
   "display_name": "Python 3.7.4 64-bit ('base': conda)",
   "language": "python",
   "name": "python37464bitbaseconda7ea36a657f094256bb953582a44f81c5"
  },
  "language_info": {
   "codemirror_mode": {
    "name": "ipython",
    "version": 3
   },
   "file_extension": ".py",
   "mimetype": "text/x-python",
   "name": "python",
   "nbconvert_exporter": "python",
   "pygments_lexer": "ipython3",
   "version": "3.7.6"
  },
  "toc": {
   "base_numbering": 1,
   "nav_menu": {},
   "number_sections": true,
   "sideBar": true,
   "skip_h1_title": false,
   "title_cell": "Table of Contents",
   "title_sidebar": "Contents",
   "toc_cell": false,
   "toc_position": {
    "height": "calc(100% - 180px)",
    "left": "10px",
    "top": "150px",
    "width": "125px"
   },
   "toc_section_display": true,
   "toc_window_display": true
  }
 },
 "nbformat": 4,
 "nbformat_minor": 4
}
